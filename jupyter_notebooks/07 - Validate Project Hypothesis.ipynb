{
 "cells": [
  {
   "cell_type": "markdown",
   "id": "272bcc64",
   "metadata": {},
   "source": [
    "# Validate Project Hypothesis\n",
    "## Objectives\n",
    "\n",
    "- Hypothesis 1:\n",
    "Markdown events before holidays have a significant positive effect on sales.\n",
    "   - H0: Markdown events before holidays do not have a significant positive effect on sales.\n",
    "   - H1: Markdown events before holidays have a significant positive effect on sales."
   ]
  },
  {
   "cell_type": "markdown",
   "id": "10b7e35c",
   "metadata": {},
   "source": []
  },
  {
   "cell_type": "markdown",
   "id": "5e5cf0a6",
   "metadata": {},
   "source": [
    "We need to change the working directory from its current folder to its parent folder\n",
    "* We access the current directory with os.getcwd()"
   ]
  },
  {
   "cell_type": "code",
   "execution_count": 1,
   "id": "81608548",
   "metadata": {},
   "outputs": [
    {
     "data": {
      "text/plain": [
       "'/workspace/Retail-Sales-Prediction/jupyter_notebooks'"
      ]
     },
     "execution_count": 1,
     "metadata": {},
     "output_type": "execute_result"
    }
   ],
   "source": [
    "import os\n",
    "current_dir = os.getcwd()\n",
    "current_dir"
   ]
  },
  {
   "cell_type": "markdown",
   "id": "cabf0b9a",
   "metadata": {},
   "source": [
    "We want to make the parent of the current directory the new current directory\n",
    "* os.path.dirname() gets the parent directory\n",
    "* os.chir() defines the new current directory"
   ]
  },
  {
   "cell_type": "code",
   "execution_count": 2,
   "id": "bbca2580",
   "metadata": {},
   "outputs": [
    {
     "name": "stdout",
     "output_type": "stream",
     "text": [
      "You set a new current directory\n"
     ]
    }
   ],
   "source": [
    "os.chdir(os.path.dirname(current_dir))\n",
    "print(\"You set a new current directory\")"
   ]
  },
  {
   "cell_type": "code",
   "execution_count": 3,
   "id": "fba6cd01",
   "metadata": {},
   "outputs": [
    {
     "data": {
      "text/plain": [
       "'/workspace/Retail-Sales-Prediction'"
      ]
     },
     "execution_count": 3,
     "metadata": {},
     "output_type": "execute_result"
    }
   ],
   "source": [
    "current_dir = os.getcwd()\n",
    "current_dir"
   ]
  },
  {
   "cell_type": "markdown",
   "id": "115f27c7",
   "metadata": {},
   "source": [
    "### Import libraries"
   ]
  },
  {
   "cell_type": "code",
   "execution_count": 4,
   "id": "268fa6f4",
   "metadata": {},
   "outputs": [],
   "source": [
    "import pandas as pd\n",
    "import numpy as np\n",
    "from scipy import stats\n",
    "import matplotlib.pyplot as plt\n",
    "import seaborn as sns\n",
    "from sklearn.linear_model import LinearRegression\n",
    "import statsmodels.api as sm"
   ]
  },
  {
   "cell_type": "markdown",
   "id": "c79e8e91",
   "metadata": {},
   "source": [
    "### Load the dataset"
   ]
  },
  {
   "cell_type": "code",
   "execution_count": 5,
   "id": "38fdc0fc",
   "metadata": {},
   "outputs": [
    {
     "data": {
      "text/html": [
       "<div>\n",
       "<style scoped>\n",
       "    .dataframe tbody tr th:only-of-type {\n",
       "        vertical-align: middle;\n",
       "    }\n",
       "\n",
       "    .dataframe tbody tr th {\n",
       "        vertical-align: top;\n",
       "    }\n",
       "\n",
       "    .dataframe thead th {\n",
       "        text-align: right;\n",
       "    }\n",
       "</style>\n",
       "<table border=\"1\" class=\"dataframe\">\n",
       "  <thead>\n",
       "    <tr style=\"text-align: right;\">\n",
       "      <th></th>\n",
       "      <th>Date</th>\n",
       "      <th>Weekly_Sales</th>\n",
       "      <th>IsHoliday</th>\n",
       "      <th>Temperature</th>\n",
       "      <th>Fuel_Price</th>\n",
       "      <th>MarkDown1</th>\n",
       "      <th>MarkDown2</th>\n",
       "      <th>MarkDown3</th>\n",
       "      <th>MarkDown4</th>\n",
       "      <th>MarkDown5</th>\n",
       "      <th>...</th>\n",
       "      <th>Dept_77</th>\n",
       "      <th>Dept_47</th>\n",
       "      <th>Dept_78</th>\n",
       "      <th>Dept_39</th>\n",
       "      <th>Dept_50</th>\n",
       "      <th>Dept_43</th>\n",
       "      <th>Dept_65</th>\n",
       "      <th>Type_A</th>\n",
       "      <th>Type_B</th>\n",
       "      <th>Type_C</th>\n",
       "    </tr>\n",
       "  </thead>\n",
       "  <tbody>\n",
       "    <tr>\n",
       "      <th>0</th>\n",
       "      <td>2011-01-04</td>\n",
       "      <td>24591.68</td>\n",
       "      <td>False</td>\n",
       "      <td>138.711631</td>\n",
       "      <td>3.524</td>\n",
       "      <td>-0.0</td>\n",
       "      <td>0.0</td>\n",
       "      <td>0.0</td>\n",
       "      <td>-0.0</td>\n",
       "      <td>-0.0</td>\n",
       "      <td>...</td>\n",
       "      <td>0</td>\n",
       "      <td>0</td>\n",
       "      <td>0</td>\n",
       "      <td>0</td>\n",
       "      <td>0</td>\n",
       "      <td>0</td>\n",
       "      <td>0</td>\n",
       "      <td>1</td>\n",
       "      <td>0</td>\n",
       "      <td>0</td>\n",
       "    </tr>\n",
       "    <tr>\n",
       "      <th>1</th>\n",
       "      <td>2011-01-04</td>\n",
       "      <td>65018.79</td>\n",
       "      <td>False</td>\n",
       "      <td>138.711631</td>\n",
       "      <td>3.524</td>\n",
       "      <td>-0.0</td>\n",
       "      <td>0.0</td>\n",
       "      <td>0.0</td>\n",
       "      <td>-0.0</td>\n",
       "      <td>-0.0</td>\n",
       "      <td>...</td>\n",
       "      <td>0</td>\n",
       "      <td>0</td>\n",
       "      <td>0</td>\n",
       "      <td>0</td>\n",
       "      <td>0</td>\n",
       "      <td>0</td>\n",
       "      <td>0</td>\n",
       "      <td>1</td>\n",
       "      <td>0</td>\n",
       "      <td>0</td>\n",
       "    </tr>\n",
       "    <tr>\n",
       "      <th>2</th>\n",
       "      <td>2011-01-04</td>\n",
       "      <td>10844.24</td>\n",
       "      <td>False</td>\n",
       "      <td>138.711631</td>\n",
       "      <td>3.524</td>\n",
       "      <td>-0.0</td>\n",
       "      <td>0.0</td>\n",
       "      <td>0.0</td>\n",
       "      <td>-0.0</td>\n",
       "      <td>-0.0</td>\n",
       "      <td>...</td>\n",
       "      <td>0</td>\n",
       "      <td>0</td>\n",
       "      <td>0</td>\n",
       "      <td>0</td>\n",
       "      <td>0</td>\n",
       "      <td>0</td>\n",
       "      <td>0</td>\n",
       "      <td>1</td>\n",
       "      <td>0</td>\n",
       "      <td>0</td>\n",
       "    </tr>\n",
       "    <tr>\n",
       "      <th>3</th>\n",
       "      <td>2011-01-04</td>\n",
       "      <td>42467.97</td>\n",
       "      <td>False</td>\n",
       "      <td>138.711631</td>\n",
       "      <td>3.524</td>\n",
       "      <td>-0.0</td>\n",
       "      <td>0.0</td>\n",
       "      <td>0.0</td>\n",
       "      <td>-0.0</td>\n",
       "      <td>-0.0</td>\n",
       "      <td>...</td>\n",
       "      <td>0</td>\n",
       "      <td>0</td>\n",
       "      <td>0</td>\n",
       "      <td>0</td>\n",
       "      <td>0</td>\n",
       "      <td>0</td>\n",
       "      <td>0</td>\n",
       "      <td>1</td>\n",
       "      <td>0</td>\n",
       "      <td>0</td>\n",
       "    </tr>\n",
       "    <tr>\n",
       "      <th>4</th>\n",
       "      <td>2011-01-04</td>\n",
       "      <td>31811.68</td>\n",
       "      <td>False</td>\n",
       "      <td>138.711631</td>\n",
       "      <td>3.524</td>\n",
       "      <td>-0.0</td>\n",
       "      <td>0.0</td>\n",
       "      <td>0.0</td>\n",
       "      <td>-0.0</td>\n",
       "      <td>-0.0</td>\n",
       "      <td>...</td>\n",
       "      <td>0</td>\n",
       "      <td>0</td>\n",
       "      <td>0</td>\n",
       "      <td>0</td>\n",
       "      <td>0</td>\n",
       "      <td>0</td>\n",
       "      <td>0</td>\n",
       "      <td>1</td>\n",
       "      <td>0</td>\n",
       "      <td>0</td>\n",
       "    </tr>\n",
       "  </tbody>\n",
       "</table>\n",
       "<p>5 rows × 142 columns</p>\n",
       "</div>"
      ],
      "text/plain": [
       "         Date  Weekly_Sales  IsHoliday  Temperature  Fuel_Price  MarkDown1  \\\n",
       "0  2011-01-04      24591.68      False   138.711631       3.524       -0.0   \n",
       "1  2011-01-04      65018.79      False   138.711631       3.524       -0.0   \n",
       "2  2011-01-04      10844.24      False   138.711631       3.524       -0.0   \n",
       "3  2011-01-04      42467.97      False   138.711631       3.524       -0.0   \n",
       "4  2011-01-04      31811.68      False   138.711631       3.524       -0.0   \n",
       "\n",
       "   MarkDown2  MarkDown3  MarkDown4  MarkDown5  ...  Dept_77  Dept_47  Dept_78  \\\n",
       "0        0.0        0.0       -0.0       -0.0  ...        0        0        0   \n",
       "1        0.0        0.0       -0.0       -0.0  ...        0        0        0   \n",
       "2        0.0        0.0       -0.0       -0.0  ...        0        0        0   \n",
       "3        0.0        0.0       -0.0       -0.0  ...        0        0        0   \n",
       "4        0.0        0.0       -0.0       -0.0  ...        0        0        0   \n",
       "\n",
       "   Dept_39  Dept_50  Dept_43  Dept_65  Type_A  Type_B  Type_C  \n",
       "0        0        0        0        0       1       0       0  \n",
       "1        0        0        0        0       1       0       0  \n",
       "2        0        0        0        0       1       0       0  \n",
       "3        0        0        0        0       1       0       0  \n",
       "4        0        0        0        0       1       0       0  \n",
       "\n",
       "[5 rows x 142 columns]"
      ]
     },
     "execution_count": 5,
     "metadata": {},
     "output_type": "execute_result"
    }
   ],
   "source": [
    "df_train = pd.read_csv(\"outputs/TrainData.csv\")\n",
    "df_train.head()"
   ]
  },
  {
   "cell_type": "markdown",
   "id": "a87571b1",
   "metadata": {},
   "source": [
    "### Convert \"Date\" column to datetime"
   ]
  },
  {
   "cell_type": "code",
   "execution_count": 6,
   "id": "376aa1cb",
   "metadata": {},
   "outputs": [],
   "source": [
    "df_train['Date'] = pd.to_datetime(df_train['Date'])"
   ]
  },
  {
   "cell_type": "markdown",
   "id": "3572ae2a",
   "metadata": {},
   "source": [
    "## Hypothesis 1"
   ]
  },
  {
   "cell_type": "markdown",
   "id": "1ae8e9ae",
   "metadata": {},
   "source": [
    "### Filter data after November 2011"
   ]
  },
  {
   "cell_type": "code",
   "execution_count": 7,
   "id": "27cb931e",
   "metadata": {},
   "outputs": [
    {
     "data": {
      "text/plain": [
       "(106098, 142)"
      ]
     },
     "execution_count": 7,
     "metadata": {},
     "output_type": "execute_result"
    }
   ],
   "source": [
    "df_train_filtered = df_train[df_train['Date'] >= '2011-11-01']\n",
    "df_train_filtered = df_train_filtered.reset_index(drop=True)\n",
    "df_train_filtered.shape"
   ]
  },
  {
   "cell_type": "markdown",
   "id": "d3638e34",
   "metadata": {},
   "source": [
    "### Calculate distances between True values of \"IsHoliday\""
   ]
  },
  {
   "cell_type": "code",
   "execution_count": 8,
   "id": "52201b7b",
   "metadata": {},
   "outputs": [
    {
     "name": "stderr",
     "output_type": "stream",
     "text": [
      "/tmp/ipykernel_19641/2165688503.py:16: SettingWithCopyWarning: \n",
      "A value is trying to be set on a copy of a slice from a DataFrame\n",
      "\n",
      "See the caveats in the documentation: https://pandas.pydata.org/pandas-docs/stable/user_guide/indexing.html#returning-a-view-versus-a-copy\n",
      "  filtered_df.sort_values(by='Date', ascending=True, inplace=True)\n"
     ]
    }
   ],
   "source": [
    "#holiday_distances = df_train_filtered[df_train_filtered['IsHoliday'] == True]['Date'].diff().dt.days.dropna()\n",
    "# Create an empty dictionary to store the filtered data for each combination\n",
    "filtered_data_list = []\n",
    "\n",
    "# Loop through each store (1 to 45) and each department (1 to 99)\n",
    "for store_num in range(1, 46):  # Loop through store numbers from 1 to 45\n",
    "    for dept_num in range(1, 100):  # Loop through department numbers from 1 to 99\n",
    "        # Create dynamic column names based on store and department numbers\n",
    "        store_column = f'Store_{store_num}'\n",
    "        dept_column = f'Dept_{dept_num}'\n",
    "        \n",
    "        # Check if the columns exist in the dataframe\n",
    "        if store_column in df_train_filtered.columns and dept_column in df_train_filtered.columns:\n",
    "            # Filter the dataframe where the store and department columns have values equal to 1\n",
    "            filtered_df = df_train_filtered[(df_train_filtered[store_column] == 1) & (df_train_filtered[dept_column] == 1)]\n",
    "            filtered_df.sort_values(by='Date', ascending=True, inplace=True)\n",
    "            \n",
    "            # Store the filtered data in the dictionary with keys for each store-department combination\n",
    "            filtered_data_list = filtered_data_list + list(filtered_df[filtered_df['IsHoliday'] == True]['Date'].diff().dt.days.dropna())"
   ]
  },
  {
   "cell_type": "code",
   "execution_count": 9,
   "id": "56fe795a",
   "metadata": {},
   "outputs": [
    {
     "data": {
      "text/plain": [
       "23.0"
      ]
     },
     "execution_count": 9,
     "metadata": {},
     "output_type": "execute_result"
    }
   ],
   "source": [
    "filtered_data_list_p = list(filter(lambda x : x > 0, filtered_data_list))\n",
    "min(filtered_data_list_p)"
   ]
  },
  {
   "cell_type": "code",
   "execution_count": 10,
   "id": "87a39815",
   "metadata": {},
   "outputs": [],
   "source": [
    "# Define a step based on minimum distance (e.g., 3 points - weeks)\n",
    "step = 3"
   ]
  },
  {
   "cell_type": "markdown",
   "id": "55e2626f",
   "metadata": {},
   "source": [
    "### Separate \"Holiday_Sales\" and \"Normal_Sales\""
   ]
  },
  {
   "cell_type": "code",
   "execution_count": 11,
   "id": "de86dceb",
   "metadata": {},
   "outputs": [],
   "source": [
    "# Separate Holiday_Sales (including 3 steps before each holiday) and Normal_Sales\n",
    "holiday_sales_indices = []\n",
    "\n",
    "for idx in df_train_filtered[df_train_filtered['IsHoliday'] == True].index:\n",
    "    holiday_sales_indices.extend(range(max(0, idx-step), idx+1))\n",
    "\n",
    "holiday_sales_indices = list(set(holiday_sales_indices))\n",
    "\n",
    "# Create Holiday_Sales and Normal_Sales sets\n",
    "holiday_sales = df_train_filtered.loc[holiday_sales_indices, 'Weekly_Sales']\n",
    "normal_sales = df_train_filtered.drop(holiday_sales_indices)['Weekly_Sales']"
   ]
  },
  {
   "cell_type": "markdown",
   "id": "7830d8e0",
   "metadata": {},
   "source": [
    "### Conduct a t-test to check if Holiday_Sales are significantly greater than Normal_Sales"
   ]
  },
  {
   "cell_type": "code",
   "execution_count": 12,
   "id": "50c13e13",
   "metadata": {},
   "outputs": [
    {
     "name": "stdout",
     "output_type": "stream",
     "text": [
      "T-statistic: 4.876473305352332, P-value: 1.0933897307408491e-06\n",
      "We reject the null hypothesis. Markdown events before holidays have a significant positive effect on sales.\n"
     ]
    }
   ],
   "source": [
    "t_stat, p_value = stats.ttest_ind(holiday_sales, normal_sales, equal_var=False)\n",
    "\n",
    "# Output the t-test results\n",
    "print(f\"T-statistic: {t_stat}, P-value: {p_value}\")\n",
    "if p_value < 0.05:\n",
    "    print(\"We reject the null hypothesis. Markdown events before holidays have a significant positive effect on sales.\")\n",
    "else:\n",
    "    print(\"We fail to reject the null hypothesis. No significant positive effect was found.\")"
   ]
  },
  {
   "cell_type": "markdown",
   "id": "c829c0a7",
   "metadata": {},
   "source": [
    "### Conclusion\n",
    "- Based on the hypothesis testing results for Hypothesis 1 , we reject the null hypotheses and state positive statistical effect of Markdowns on Sales."
   ]
  }
 ],
 "metadata": {
  "kernelspec": {
   "display_name": "Python 3 (ipykernel)",
   "language": "python",
   "name": "python3"
  },
  "language_info": {
   "codemirror_mode": {
    "name": "ipython",
    "version": 3
   },
   "file_extension": ".py",
   "mimetype": "text/x-python",
   "name": "python",
   "nbconvert_exporter": "python",
   "pygments_lexer": "ipython3",
   "version": "3.9.20"
  }
 },
 "nbformat": 4,
 "nbformat_minor": 5
}
