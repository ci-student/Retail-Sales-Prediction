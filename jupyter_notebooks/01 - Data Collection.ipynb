{
 "cells": [
  {
   "cell_type": "markdown",
   "metadata": {
    "id": "Ndq4Kg-yhxKm"
   },
   "source": [
    "# Data Collection Notebook\n",
    "## Objectives:"
   ]
  },
  {
   "cell_type": "markdown",
   "metadata": {
    "id": "LiujW2ORafaX"
   },
   "source": [
    "* - Load 3 input data tables from the same folder\n",
    "* - Perform full outer joins between the tables\n",
    "* - Conduct a quick data check\n",
    "* - Save the resulting dataset in the folder"
   ]
  },
  {
   "cell_type": "markdown",
   "metadata": {
    "id": "QRr9AthgafaZ"
   },
   "source": [
    "---"
   ]
  },
  {
   "cell_type": "markdown",
   "metadata": {
    "id": "3hmB6wo1afaZ"
   },
   "source": [
    "### Import Packages for Learning"
   ]
  },
  {
   "cell_type": "markdown",
   "metadata": {},
   "source": [
    "We need to change the working directory from its current folder to its parent folder\n",
    "* We access the current directory with os.getcwd()"
   ]
  },
  {
   "cell_type": "code",
   "execution_count": 1,
   "metadata": {},
   "outputs": [
    {
     "data": {
      "text/plain": [
       "'/workspace/Retail-Sales-Prediction/jupyter_notebooks'"
      ]
     },
     "execution_count": 1,
     "metadata": {},
     "output_type": "execute_result"
    }
   ],
   "source": [
    "import os\n",
    "current_dir = os.getcwd()\n",
    "current_dir"
   ]
  },
  {
   "cell_type": "code",
   "execution_count": 2,
   "metadata": {},
   "outputs": [
    {
     "name": "stdout",
     "output_type": "stream",
     "text": [
      "You set a new current directory\n"
     ]
    }
   ],
   "source": [
    "os.chdir(os.path.dirname(current_dir))\n",
    "print(\"You set a new current directory\")"
   ]
  },
  {
   "cell_type": "code",
   "execution_count": 3,
   "metadata": {},
   "outputs": [
    {
     "data": {
      "text/plain": [
       "'/workspace/Retail-Sales-Prediction'"
      ]
     },
     "execution_count": 3,
     "metadata": {},
     "output_type": "execute_result"
    }
   ],
   "source": [
    "current_dir = os.getcwd()\n",
    "current_dir"
   ]
  },
  {
   "cell_type": "code",
   "execution_count": 4,
   "metadata": {
    "id": "2EOs6cB_SjeE"
   },
   "outputs": [],
   "source": [
    "import numpy as np\n",
    "import pandas as pd\n",
    "import os"
   ]
  },
  {
   "cell_type": "code",
   "execution_count": null,
   "metadata": {},
   "outputs": [],
   "source": []
  },
  {
   "cell_type": "markdown",
   "metadata": {
    "id": "gLGOQUPKdCzr"
   },
   "source": [
    "---"
   ]
  },
  {
   "cell_type": "markdown",
   "metadata": {
    "id": "cTiSN8hDcmuO"
   },
   "source": [
    "### Step 1: Load the 3 input data tables\n",
    "  \n"
   ]
  },
  {
   "cell_type": "code",
   "execution_count": 6,
   "metadata": {},
   "outputs": [],
   "source": [
    "sales_data = pd.read_csv('inputs/sales data-set.csv')\n",
    "features_data = pd.read_csv('inputs/Features data set.csv')\n",
    "stores_data = pd.read_csv('inputs/stores data-set.csv')"
   ]
  },
  {
   "cell_type": "markdown",
   "metadata": {
    "id": "84jon11xdQPr"
   },
   "source": [
    "----"
   ]
  },
  {
   "cell_type": "markdown",
   "metadata": {
    "id": "0ngdeZdUqMC5"
   },
   "source": [
    "### Step 2: Perform full outer join of Sales and Features on 'Store' and 'Date'\n",
    "Drop 'IsHoliday' column from the 'features_data' table to avoid redundancy"
   ]
  },
  {
   "cell_type": "code",
   "execution_count": 7,
   "metadata": {
    "id": "z9X2oe6CeYcB"
   },
   "outputs": [],
   "source": [
    "if 'IsHoliday' in features_data.columns:\n",
    "    features_data = features_data.drop(columns=['IsHoliday'])\n",
    "sales_features_merged = pd.merge(sales_data, features_data, on=['Store', 'Date'], how='outer')"
   ]
  },
  {
   "cell_type": "markdown",
   "metadata": {
    "id": "Ws43kAI-vi-8"
   },
   "source": [
    "### Step 3: Perform full outer join with Stores on 'Store'"
   ]
  },
  {
   "cell_type": "code",
   "execution_count": 8,
   "metadata": {
    "id": "6srxYMypvfcH"
   },
   "outputs": [],
   "source": [
    "full_data = pd.merge(sales_features_merged, stores_data, on='Store', how='outer')"
   ]
  },
  {
   "cell_type": "markdown",
   "metadata": {
    "id": "e5CcGA0VtwSJ"
   },
   "source": [
    "### Step 4: Quick checks for data"
   ]
  },
  {
   "cell_type": "code",
   "execution_count": 9,
   "metadata": {
    "id": "sI4PPQx9tHvG"
   },
   "outputs": [
    {
     "name": "stdout",
     "output_type": "stream",
     "text": [
      "Quick Data Check:\n",
      "<class 'pandas.core.frame.DataFrame'>\n",
      "RangeIndex: 423325 entries, 0 to 423324\n",
      "Data columns (total 16 columns):\n",
      " #   Column        Non-Null Count   Dtype  \n",
      "---  ------        --------------   -----  \n",
      " 0   Store         423325 non-null  int64  \n",
      " 1   Dept          421570 non-null  float64\n",
      " 2   Date          423325 non-null  object \n",
      " 3   Weekly_Sales  421570 non-null  float64\n",
      " 4   IsHoliday     421570 non-null  object \n",
      " 5   Temperature   423325 non-null  float64\n",
      " 6   Fuel_Price    423325 non-null  float64\n",
      " 7   MarkDown1     152433 non-null  float64\n",
      " 8   MarkDown2     112532 non-null  float64\n",
      " 9   MarkDown3     138658 non-null  float64\n",
      " 10  MarkDown4     136466 non-null  float64\n",
      " 11  MarkDown5     153187 non-null  float64\n",
      " 12  CPI           422740 non-null  float64\n",
      " 13  Unemployment  422740 non-null  float64\n",
      " 14  Type          423325 non-null  object \n",
      " 15  Size          423325 non-null  int64  \n",
      "dtypes: float64(11), int64(2), object(3)\n",
      "memory usage: 51.7+ MB\n",
      "None\n",
      "   Store  Dept        Date  Weekly_Sales IsHoliday  Temperature  Fuel_Price  \\\n",
      "0      1   NaN  01/02/2013           NaN       NaN        56.46       3.244   \n",
      "1      1   NaN  01/03/2013           NaN       NaN        48.01       3.711   \n",
      "2      1   1.0  01/04/2011      20398.09     False        59.17       3.524   \n",
      "3      1   2.0  01/04/2011      46991.58     False        59.17       3.524   \n",
      "4      1   3.0  01/04/2011       8734.19     False        59.17       3.524   \n",
      "\n",
      "   MarkDown1  MarkDown2  MarkDown3  MarkDown4  MarkDown5         CPI  \\\n",
      "0    9290.91    1359.90      265.0   20657.82     972.61  224.235290   \n",
      "1   10610.74     261.46        2.8      25.54    2747.59  224.564526   \n",
      "2        NaN        NaN        NaN        NaN        NaN  214.837166   \n",
      "3        NaN        NaN        NaN        NaN        NaN  214.837166   \n",
      "4        NaN        NaN        NaN        NaN        NaN  214.837166   \n",
      "\n",
      "   Unemployment Type    Size  \n",
      "0         6.525    A  151315  \n",
      "1         6.525    A  151315  \n",
      "2         7.682    A  151315  \n",
      "3         7.682    A  151315  \n",
      "4         7.682    A  151315  \n"
     ]
    }
   ],
   "source": [
    "print(\"Quick Data Check:\")\n",
    "print(full_data.info())\n",
    "print(full_data.head())"
   ]
  },
  {
   "cell_type": "markdown",
   "metadata": {},
   "source": [
    "### Step 5: Save the merged file to the output folder"
   ]
  },
  {
   "cell_type": "code",
   "execution_count": 10,
   "metadata": {},
   "outputs": [
    {
     "name": "stdout",
     "output_type": "stream",
     "text": [
      "Merged data saved at: outputs/merged_data.csv\n"
     ]
    }
   ],
   "source": [
    "output_path = \"outputs/merged_data.csv\"\n",
    "os.makedirs(os.path.dirname(output_path), exist_ok=True)\n",
    "full_data.to_csv(output_path, index=False)\n",
    "\n",
    "print(f\"Merged data saved at: {output_path}\")"
   ]
  }
 ],
 "metadata": {
  "colab": {
   "collapsed_sections": [],
   "name": "Statistical Tests - Unit 02: Parametric Statistical Tests.ipynb",
   "provenance": [],
   "toc_visible": true
  },
  "kernelspec": {
   "display_name": "Python 3 (ipykernel)",
   "language": "python",
   "name": "python3"
  },
  "language_info": {
   "codemirror_mode": {
    "name": "ipython",
    "version": 3
   },
   "file_extension": ".py",
   "mimetype": "text/x-python",
   "name": "python",
   "nbconvert_exporter": "python",
   "pygments_lexer": "ipython3",
   "version": "3.10.13"
  }
 },
 "nbformat": 4,
 "nbformat_minor": 1
}
